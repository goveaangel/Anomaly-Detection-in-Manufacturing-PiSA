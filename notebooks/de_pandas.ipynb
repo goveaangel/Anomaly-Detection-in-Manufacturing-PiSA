{
 "cells": [
  {
   "cell_type": "code",
   "execution_count": null,
   "metadata": {
    "vscode": {
     "languageId": "plaintext"
    }
   },
   "outputs": [],
   "source": [
    "drive.mount('/content/drive/')\n",
    "parquet_folder = \"/content/drive/My_Drive/TC2004B_Ciencia_de_Datos/2025/pisa/\"\n",
    "parquet_files = [\"DataTec]"
   ]
  }
 ],
 "metadata": {
  "language_info": {
   "name": "python"
  }
 },
 "nbformat": 4,
 "nbformat_minor": 2
}
