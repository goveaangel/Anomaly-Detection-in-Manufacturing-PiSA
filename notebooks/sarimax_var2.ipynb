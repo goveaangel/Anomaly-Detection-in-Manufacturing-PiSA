{
 "cells": [
  {
   "cell_type": "code",
   "execution_count": null,
   "metadata": {},
   "outputs": [],
   "source": [
    "import pandas as pd\n",
    "import numpy as np\n",
    "import matplotlib.pyplot as plt\n",
    "import pmdarima as pm\n",
    "import statsmodels.api as sm\n",
    "from statsmodels.tsa.stattools import adfuller\n",
    "from statsmodels.graphics.tsaplots import plot_acf, plot_pacf"
   ]
  },
  {
   "cell_type": "markdown",
   "metadata": {},
   "source": [
    "***SEMANA 1***"
   ]
  },
  {
   "cell_type": "code",
   "execution_count": null,
   "metadata": {},
   "outputs": [],
   "source": [
    "#importamos el dia con el que trabajamos\n",
    "df_sem = pd.read_csv('../data/serie_temporal_semana1.csv')"
   ]
  },
  {
   "cell_type": "code",
   "execution_count": null,
   "metadata": {},
   "outputs": [],
   "source": [
    "# Convertimos el timestamp en índice de tiempo\n",
    "df_sem['user_ts__'] = pd.to_datetime(df_sem['user_ts__'])\n",
    "df_sem.set_index('user_ts__', inplace=True)"
   ]
  },
  {
   "cell_type": "code",
   "execution_count": null,
   "metadata": {},
   "outputs": [],
   "source": [
    "# Revisamos cantidad de datos no nulos por columna\n",
    "non_null_counts_sem = df_sem.notnull().sum().sort_values(ascending=False)\n",
    "non_null_counts_sem"
   ]
  },
  {
   "cell_type": "code",
   "execution_count": null,
   "metadata": {},
   "outputs": [],
   "source": [
    "# Gráfico de cantidad de datos por columna\n",
    "plt.figure(figsize=(12, 12))\n",
    "non_null_counts_sem.plot(kind='bar', color='orange', edgecolor='black')\n",
    "plt.title('Cantidad de datos no nulos por columna de temperatura')\n",
    "plt.xlabel('Variables')\n",
    "plt.ylabel('Cantidad de datos no nulos')\n",
    "plt.xticks(rotation=90)\n",
    "plt.grid(True)\n",
    "plt.tight_layout()\n",
    "plt.show()"
   ]
  },
  {
   "cell_type": "code",
   "execution_count": null,
   "metadata": {},
   "outputs": [],
   "source": [
    "# Seleccionamos la variable con más datos\n",
    "serie = df_sem['powerPerPreform_CurrentPreformNeckFinishTemperature.0'].dropna()\n",
    "\n",
    "# Graficamos la serie temporal\n",
    "plt.figure(figsize=(14, 6))\n",
    "plt.plot(serie, color='blue')\n",
    "\n",
    "plt.title('Serie temporal - powerPerPreform_CurrentPreformNeckFinishTemperature.0', fontsize=16)\n",
    "plt.xlabel('Fecha y hora', fontsize=14)\n",
    "plt.ylabel('Temperatura', fontsize=14)\n",
    "\n",
    "plt.grid(True, linestyle='--', alpha=0.7)\n",
    "plt.tight_layout()\n",
    "plt.show()"
   ]
  },
  {
   "cell_type": "code",
   "execution_count": null,
   "metadata": {},
   "outputs": [],
   "source": [
    "# 1. Aplicar el test de Dickey-Fuller\n",
    "resultado_dickey = adfuller(serie.dropna(), autolag='AIC')\n",
    "\n",
    "# 2. Crear una serie de resultados básicos\n",
    "resultado_df = pd.Series(resultado_dickey[0:4], index=[\n",
    "    'Estadístico de prueba',\n",
    "    'p-value',\n",
    "    'Número de rezagos usados',\n",
    "    'Número de observaciones usadas'\n",
    "])\n",
    "\n",
    "# 3. Agregar los valores críticos al resultado\n",
    "for clave, valor in resultado_dickey[4].items():\n",
    "    resultado_df[f'Valor crítico ({clave})'] = valor\n",
    "\n",
    "# 4. Mostrar el resultado completo\n",
    "print(resultado_df)"
   ]
  },
  {
   "cell_type": "code",
   "execution_count": null,
   "metadata": {},
   "outputs": [],
   "source": [
    "# Creamos una figura con 2 subplots para ACF y PACF\n",
    "fig, axes = plt.subplots(1, 2, figsize=(16, 6))\n",
    "\n",
    "# ACF: para definir q\n",
    "plot_acf(serie.dropna(), lags=50, ax=axes[0])\n",
    "axes[0].set_title('ACF - Función de Autocorrelación')\n",
    "\n",
    "# PACF: para definir p\n",
    "plot_pacf(serie.dropna(), lags=50, ax=axes[1], method='ywm')\n",
    "axes[1].set_title('PACF - Función de Autocorrelación Parcial')\n",
    "\n",
    "plt.show()"
   ]
  },
  {
   "cell_type": "code",
   "execution_count": null,
   "metadata": {},
   "outputs": [],
   "source": [
    "from pmdarima import auto_arima\n",
    "\n",
    "# Asumiendo que serie es la serie semanal ya cargada y preprocesada\n",
    "modelo_auto = auto_arima(serie,\n",
    "                         start_p=0, start_q=0,\n",
    "                         max_p=5, max_q=5,\n",
    "                         seasonal=False,     # SIN estacionalidad aquí\n",
    "                         stepwise=True,\n",
    "                         trace=True,\n",
    "                         suppress_warnings=True)\n",
    "\n",
    "# Mostramos el resultado del modelo sin estacionalidad\n",
    "print(modelo_auto.summary())\n",
    "print('Orden sin estacionalidad sugerido:', modelo_auto.order)\n",
    "\n",
    "# Lo guardas para el siguiente paso\n",
    "best_order = modelo_auto.order"
   ]
  },
  {
   "cell_type": "code",
   "execution_count": null,
   "metadata": {},
   "outputs": [],
   "source": [
    "# Asegúrate de tener el índice en datetime y ordenado\n",
    "serie.index = pd.to_datetime(serie.index)\n",
    "serie = serie.sort_index()\n",
    "\n",
    "# Resampleamos cada minuto y calculamos el promedio en cada ventana de 1 min\n",
    "serie_minuto = serie.resample('1min').mean().dropna()\n",
    "\n",
    "# Revisamos\n",
    "print(f\"Cantidad de datos resampleados: {len(serie_minuto)}\")\n",
    "serie_minuto.head()"
   ]
  },
  {
   "cell_type": "code",
   "execution_count": null,
   "metadata": {},
   "outputs": [],
   "source": [
    "# Asegúrate de tener el índice en datetime y ordenado\n",
    "serie.index = pd.to_datetime(serie.index)\n",
    "serie = serie.sort_index()\n",
    "\n",
    "# Resampleamos cada 20 segundos y calculamos el promedio en cada ventana de 20 segundos\n",
    "serie_30s = serie.resample('30S').mean().dropna()\n",
    "\n",
    "# Revisamos\n",
    "print(f\"Cantidad de datos resampleados: {len(serie_30s)}\")\n",
    "serie_30s.head()"
   ]
  },
  {
   "cell_type": "code",
   "execution_count": null,
   "metadata": {},
   "outputs": [],
   "source": [
    "from statsmodels.tsa.stattools import adfuller\n",
    "\n",
    "resultado_adf = adfuller(serie_minuto)\n",
    "print(f'Estadístico de prueba: {resultado_adf[0]}')\n",
    "print(f'p-value: {resultado_adf[1]}')\n",
    "\n",
    "# Si p-value < 0.05 => estacionaria"
   ]
  },
  {
   "cell_type": "code",
   "execution_count": null,
   "metadata": {},
   "outputs": [],
   "source": [
    "from statsmodels.tsa.statespace.sarimax import SARIMAX\n",
    "import itertools\n",
    "\n",
    "fixed_order = (4, 1, 2)  # El orden sin estacionalidad que obtuviste\n",
    "\n",
    "# Rango de búsqueda para estacionalidad\n",
    "P = D = Q = range(0, 2)  # Ajustable\n",
    "m = 60  # Un ciclo diario\n",
    "\n",
    "seasonal_combinations = list(itertools.product(P, D, Q))\n",
    "\n",
    "best_aic = float(\"inf\")\n",
    "best_model = None\n",
    "best_seasonal_order = None\n",
    "\n",
    "for seasonal_order in seasonal_combinations:\n",
    "    try:\n",
    "        model = SARIMAX(serie_minuto,  # O el nombre de tu serie de 1 min\n",
    "                        order=fixed_order,\n",
    "                        seasonal_order=seasonal_order + (m,),\n",
    "                        enforce_stationarity=False,\n",
    "                        enforce_invertibility=False)\n",
    "\n",
    "        result = model.fit(disp=False)\n",
    "\n",
    "        print(f'Tested SARIMA{fixed_order}x{seasonal_order + (m,)} - AIC:{result.aic}')\n",
    "\n",
    "        if result.aic < best_aic:\n",
    "            best_aic = result.aic\n",
    "            best_model = result\n",
    "            best_seasonal_order = seasonal_order + (m,)\n",
    "\n",
    "    except Exception as e:\n",
    "        print(f'Error en SARIMA{fixed_order}x{seasonal_order + (m,)}: {e}')\n",
    "\n",
    "print(f'\\n📌 Mejor modelo encontrado:')\n",
    "print(f'  - SARIMA{fixed_order}x{best_seasonal_order} con AIC = {best_aic}')"
   ]
  },
  {
   "cell_type": "code",
   "execution_count": null,
   "metadata": {},
   "outputs": [],
   "source": [
    "from statsmodels.tsa.statespace.sarimax import SARIMAX\n",
    "\n",
    "# Entrena el modelo con los mejores parámetros\n",
    "final_model = SARIMAX(serie_30s,\n",
    "                      order=(4, 1, 2),\n",
    "                      seasonal_order=(0, 1, 2, 60),\n",
    "                      enforce_stationarity=False,\n",
    "                      enforce_invertibility=False)\n",
    "\n",
    "final_result = final_model.fit(disp=False)\n",
    "\n",
    "# Resumen del modelo entrenado\n",
    "print(final_result.summary())"
   ]
  },
  {
   "cell_type": "code",
   "execution_count": null,
   "metadata": {},
   "outputs": [],
   "source": [
    "import matplotlib.pyplot as plt\n",
    "import seaborn as sns\n",
    "from statsmodels.graphics.tsaplots import plot_acf, plot_pacf\n",
    "from statsmodels.stats.diagnostic import acorr_ljungbox\n",
    "from scipy.stats import shapiro\n",
    "\n",
    "# 1. Extraer los residuos del modelo\n",
    "residuals = final_result.resid\n",
    "\n",
    "# 2. Gráfica de residuos en el tiempo\n",
    "plt.figure(figsize=(12,4))\n",
    "plt.plot(residuals)\n",
    "plt.title('Residuos del modelo')\n",
    "plt.show()\n",
    "\n",
    "# 3. Histograma de los residuos\n",
    "plt.figure(figsize=(8,4))\n",
    "sns.histplot(residuals, kde=True, bins=30)\n",
    "plt.title('Histograma de los residuos')\n",
    "plt.show()\n",
    "\n",
    "# 4. Gráfica Q-Q para ver normalidad\n",
    "import statsmodels.api as sm\n",
    "sm.qqplot(residuals, line='s')\n",
    "plt.title('Q-Q plot de los residuos')\n",
    "plt.show()\n",
    "\n",
    "# 5. Autocorrelación de residuos\n",
    "fig, ax = plt.subplots(1,2, figsize=(16,4))\n",
    "plot_acf(residuals, ax=ax[0])\n",
    "plot_pacf(residuals, ax=ax[1])\n",
    "plt.show()\n",
    "\n",
    "# 6. Ljung-Box test\n",
    "lb_test = acorr_ljungbox(residuals, lags=[10], return_df=True)\n",
    "print(\"Ljung-Box test (lag=10):\")\n",
    "print(lb_test)\n",
    "\n",
    "# 7. Shapiro-Wilk test para normalidad\n",
    "shapiro_test = shapiro(residuals)\n",
    "print(f\"\\nShapiro-Wilk Test:\")\n",
    "print(f\"  - Estadístico: {shapiro_test[0]:.4f}\")\n",
    "print(f\"  - p-value: {shapiro_test[1]:.4f}\")"
   ]
  },
  {
   "cell_type": "code",
   "execution_count": null,
   "metadata": {},
   "outputs": [],
   "source": [
    "# Cargar el CSV de los 2 días reales\n",
    "df_2dias = pd.read_csv('../data/serie_temporal_semana1_predecir.csv')\n",
    "\n",
    "# Asegurarte de que la columna timestamp sea datetime y esté ordenado\n",
    "df_2dias['user_ts__'] = pd.to_datetime(df_2dias['user_ts__'])\n",
    "df_2dias = df_2dias.sort_values('user_ts__')\n",
    "\n",
    "# Establecer como índice el timestamp\n",
    "df_2dias.set_index('user_ts__', inplace=True)\n",
    "\n",
    "# Selecciona la columna de la variable objetivo\n",
    "serie_real_pred = df_2dias['powerPerPreform_CurrentPreformNeckFinishTemperature.0']\n",
    "\n",
    "# Eliminar nulos (por si las dudas)\n",
    "serie_real_pred = serie_real_pred.dropna()\n",
    "\n",
    "# Revisar el rango y el número de datos reales\n",
    "print(serie_real_pred.index.min(), serie_real_pred.index.max(), len(serie_real_pred))"
   ]
  },
  {
   "cell_type": "code",
   "execution_count": null,
   "metadata": {},
   "outputs": [],
   "source": [
    "# Cuántos pasos quieres pronosticar con SARIMA por minuto\n",
    "steps_forecast = 2880  # 2 días en minutos\n",
    "\n",
    "# Predicción con el modelo SARIMA entrenado en serie_minuto\n",
    "pred_uc = final_result.get_forecast(steps=steps_forecast)\n",
    "\n",
    "# Obtener la media del pronóstico y el intervalo de confianza\n",
    "forecast_mean_minuto = pred_uc.predicted_mean\n",
    "forecast_ci = pred_uc.conf_int()\n",
    "\n",
    "# Creamos el índice correcto para el forecast por minuto\n",
    "forecast_index_minuto = pd.date_range(\n",
    "    start='2025-01-11 18:00:01+00:00',  # Aquí pones el inicio de la predicción (coherente con tu ventana)\n",
    "    periods=steps_forecast,\n",
    "    freq='T'  # Frecuencia de minutos\n",
    ")\n",
    "\n",
    "# Asignamos el índice al forecast y al intervalo de confianza\n",
    "forecast_mean_minuto.index = forecast_index_minuto\n",
    "forecast_ci.index = forecast_index_minuto"
   ]
  },
  {
   "cell_type": "code",
   "execution_count": null,
   "metadata": {},
   "outputs": [],
   "source": [
    "# Reindexamos sin método para generar NaNs y después interpolamos\n",
    "forecast_interpolado = forecast_mean_minuto.reindex(serie_real_pred.index)\n",
    "forecast_interpolado = forecast_interpolado.interpolate(method='time')"
   ]
  },
  {
   "cell_type": "code",
   "execution_count": null,
   "metadata": {},
   "outputs": [],
   "source": [
    "import matplotlib.pyplot as plt\n",
    "\n",
    "plt.figure(figsize=(15,6))\n",
    "\n",
    "# Serie real de los 2 días\n",
    "plt.plot(serie_real_pred.index, serie_real_pred.values, label='Serie Real (segundos)', alpha=0.7)\n",
    "\n",
    "# Forecast interpolado\n",
    "plt.plot(forecast_interpolado.index, forecast_interpolado.values, label='Forecast SARIMA interpolado', color='red')\n",
    "\n",
    "plt.title('Predicción SARIMA (Interpolada) vs Datos Reales; powerPerPreform_CurrentPreformNeckFinishTemperature.0')\n",
    "plt.xlabel('Fecha')\n",
    "plt.ylabel('Temperatura (°C)')\n",
    "plt.legend()\n",
    "plt.grid(True)\n",
    "plt.show()"
   ]
  },
  {
   "cell_type": "code",
   "execution_count": null,
   "metadata": {},
   "outputs": [],
   "source": [
    "from sklearn.metrics import mean_absolute_error, mean_squared_error\n",
    "\n",
    "# Asegúrate de que ambos tienen el mismo tamaño\n",
    "assert len(serie_real_pred) == len(forecast_interpolado)\n",
    "\n",
    "# Calculamos los errores\n",
    "mae = mean_absolute_error(serie_real_pred.values, forecast_interpolado.values)\n",
    "rmse = np.sqrt(mean_squared_error(serie_real_pred.values, forecast_interpolado.values))\n",
    "\n",
    "print(f\"MAE: {mae:.4f}\")\n",
    "print(f\"RMSE: {rmse:.4f}\")"
   ]
  },
  {
   "cell_type": "markdown",
   "metadata": {},
   "source": [
    "***SEMANA 2***"
   ]
  },
  {
   "cell_type": "code",
   "execution_count": null,
   "metadata": {},
   "outputs": [],
   "source": [
    "#importamos el dia con el que trabajamos\n",
    "df_sem2 = pd.read_csv('../data/serie_temporal_semana2.csv')"
   ]
  },
  {
   "cell_type": "code",
   "execution_count": null,
   "metadata": {},
   "outputs": [],
   "source": [
    "# Convertimos el timestamp en índice de tiempo\n",
    "df_sem2['user_ts__'] = pd.to_datetime(df_sem2['user_ts__'])\n",
    "df_sem2.set_index('user_ts__', inplace=True)"
   ]
  },
  {
   "cell_type": "code",
   "execution_count": null,
   "metadata": {},
   "outputs": [],
   "source": [
    "# Seleccionamos la variable con más datos\n",
    "serie2 = df_sem2['powerPerPreform_CurrentPreformNeckFinishTemperature.0'].dropna()\n",
    "\n",
    "# Graficamos la serie temporal\n",
    "plt.figure(figsize=(14, 6))\n",
    "plt.plot(serie2, color='blue')\n",
    "\n",
    "plt.title('Serie temporal - powerPerPreform_CurrentPreformNeckFinishTemperature.0', fontsize=16)\n",
    "plt.xlabel('Fecha y hora', fontsize=14)\n",
    "plt.ylabel('Temperatura', fontsize=14)\n",
    "\n",
    "plt.grid(True, linestyle='--', alpha=0.7)\n",
    "plt.tight_layout()\n",
    "plt.show()"
   ]
  },
  {
   "cell_type": "code",
   "execution_count": null,
   "metadata": {},
   "outputs": [],
   "source": [
    "# Asegúrate de tener el índice en datetime y ordenado\n",
    "serie2.index = pd.to_datetime(serie2.index)\n",
    "serie2 = serie2.sort_index()\n",
    "\n",
    "# Resampleamos cada 20 segundos y calculamos el promedio en cada ventana de 20 segundos\n",
    "serie_30s = serie2.resample('30S').mean().dropna()\n",
    "\n",
    "# Revisamos\n",
    "print(f\"Cantidad de datos resampleados: {len(serie_30s)}\")\n",
    "serie_30s.head()"
   ]
  },
  {
   "cell_type": "code",
   "execution_count": null,
   "metadata": {},
   "outputs": [],
   "source": [
    "from statsmodels.tsa.statespace.sarimax import SARIMAX\n",
    "\n",
    "# Entrena el modelo con los mejores parámetros\n",
    "final_model = SARIMAX(serie_30s,\n",
    "                      order=(4, 1, 2),\n",
    "                      seasonal_order=(0, 1, 2, 60),\n",
    "                      enforce_stationarity=False,\n",
    "                      enforce_invertibility=False)\n",
    "\n",
    "final_result = final_model.fit(disp=False)\n",
    "\n",
    "# Resumen del modelo entrenado\n",
    "print(final_result.summary())"
   ]
  },
  {
   "cell_type": "code",
   "execution_count": null,
   "metadata": {},
   "outputs": [],
   "source": [
    "# Cargar el CSV de los 2 días reales\n",
    "df_2dias = pd.read_csv('../data/serie_temporal_semana2_predecir.csv')\n",
    "\n",
    "# Asegurarte de que la columna timestamp sea datetime y esté ordenado\n",
    "df_2dias['user_ts__'] = pd.to_datetime(df_2dias['user_ts__'])\n",
    "df_2dias = df_2dias.sort_values('user_ts__')\n",
    "\n",
    "# Establecer como índice el timestamp\n",
    "df_2dias.set_index('user_ts__', inplace=True)\n",
    "\n",
    "# Selecciona la columna de la variable objetivo\n",
    "serie_real_pred = df_2dias['powerPerPreform_CurrentPreformNeckFinishTemperature.0']\n",
    "\n",
    "# Eliminar nulos (por si las dudas)\n",
    "serie_real_pred = serie_real_pred.dropna()\n",
    "\n",
    "# Revisar el rango y el número de datos reales\n",
    "print(serie_real_pred.index.min(), serie_real_pred.index.max(), len(serie_real_pred))"
   ]
  },
  {
   "cell_type": "code",
   "execution_count": null,
   "metadata": {},
   "outputs": [],
   "source": [
    "# Cuántos pasos quieres pronosticar con SARIMA por minuto\n",
    "steps_forecast = 2880  # 2 días en minutos\n",
    "\n",
    "# Predicción con el modelo SARIMA entrenado en serie_minuto\n",
    "pred_uc = final_result.get_forecast(steps=steps_forecast)\n",
    "\n",
    "# Obtener la media del pronóstico y el intervalo de confianza\n",
    "forecast_mean_minuto = pred_uc.predicted_mean\n",
    "forecast_ci = pred_uc.conf_int()\n",
    "\n",
    "# Creamos el índice correcto para el forecast por minuto\n",
    "forecast_index_minuto = pd.date_range(\n",
    "    start='2025-01-13 18:00:01+00:00',  # Aquí pones el inicio de la predicción (coherente con tu ventana)\n",
    "    periods=steps_forecast,\n",
    "    freq='T'  # Frecuencia de minutos\n",
    ")\n",
    "\n",
    "# Asignamos el índice al forecast y al intervalo de confianza\n",
    "forecast_mean_minuto.index = forecast_index_minuto\n",
    "forecast_ci.index = forecast_index_minuto"
   ]
  },
  {
   "cell_type": "code",
   "execution_count": null,
   "metadata": {},
   "outputs": [],
   "source": [
    "# Reindexamos sin método para generar NaNs y después interpolamos\n",
    "forecast_interpolado = forecast_mean_minuto.reindex(serie_real_pred.index)\n",
    "forecast_interpolado = forecast_interpolado.interpolate(method='time')"
   ]
  },
  {
   "cell_type": "code",
   "execution_count": null,
   "metadata": {},
   "outputs": [],
   "source": [
    "import matplotlib.pyplot as plt\n",
    "\n",
    "plt.figure(figsize=(15,6))\n",
    "\n",
    "# Serie real de los 2 días\n",
    "plt.plot(serie_real_pred.index, serie_real_pred.values, label='Serie Real (segundos)', alpha=0.7)\n",
    "\n",
    "# Forecast interpolado\n",
    "plt.plot(forecast_interpolado.index, forecast_interpolado.values, label='Forecast SARIMA interpolado', color='red')\n",
    "\n",
    "plt.title('Predicción SARIMA (Interpolada) vs Datos Reales; powerPerPreform_CurrentPreformNeckFinishTemperature.0')\n",
    "plt.xlabel('Fecha')\n",
    "plt.ylabel('Temperatura (°C)')\n",
    "plt.legend()\n",
    "plt.grid(True)\n",
    "plt.show()"
   ]
  },
  {
   "cell_type": "code",
   "execution_count": null,
   "metadata": {},
   "outputs": [],
   "source": [
    "import numpy as np\n",
    "from sklearn.metrics import mean_absolute_error, mean_squared_error\n",
    "import pandas as pd\n",
    "\n",
    "# Crear un DataFrame para alinear las dos series y limpiar NaN\n",
    "df_comparacion = pd.DataFrame({\n",
    "    'real': serie_real_pred,\n",
    "    'predicho': forecast_interpolado\n",
    "})\n",
    "\n",
    "# Eliminar filas con NaN en cualquiera de las dos series\n",
    "df_comparacion = df_comparacion.dropna()\n",
    "\n",
    "# Confirmamos tamaños nuevamente (por si acaso)\n",
    "assert len(df_comparacion['real']) == len(df_comparacion['predicho'])\n",
    "\n",
    "# Calculamos las métricas\n",
    "mae = mean_absolute_error(df_comparacion['real'], df_comparacion['predicho'])\n",
    "rmse = np.sqrt(mean_squared_error(df_comparacion['real'], df_comparacion['predicho']))\n",
    "\n",
    "print(f\"MAE: {mae:.4f}\")\n",
    "print(f\"RMSE: {rmse:.4f}\")"
   ]
  },
  {
   "cell_type": "markdown",
   "metadata": {},
   "source": [
    "***SEMANA 3***"
   ]
  },
  {
   "cell_type": "code",
   "execution_count": null,
   "metadata": {},
   "outputs": [],
   "source": [
    "#importamos el dia con el que trabajamos\n",
    "df_sem3 = pd.read_csv('../data/serie_temporal_semana3.csv')"
   ]
  },
  {
   "cell_type": "code",
   "execution_count": null,
   "metadata": {},
   "outputs": [],
   "source": [
    "# Convertimos el timestamp en índice de tiempo\n",
    "df_sem3['user_ts__'] = pd.to_datetime(df_sem3['user_ts__'])\n",
    "df_sem3.set_index('user_ts__', inplace=True)"
   ]
  },
  {
   "cell_type": "code",
   "execution_count": null,
   "metadata": {},
   "outputs": [],
   "source": [
    "# Seleccionamos la variable con más datos\n",
    "serie3 = df_sem3['powerPerPreform_CurrentPreformNeckFinishTemperature.0'].dropna()\n",
    "\n",
    "# Graficamos la serie temporal\n",
    "plt.figure(figsize=(14, 6))\n",
    "plt.plot(serie3, color='blue')\n",
    "\n",
    "plt.title('Serie temporal - powerPerPreform_CurrentPreformNeckFinishTemperature.0', fontsize=16)\n",
    "plt.xlabel('Fecha y hora', fontsize=14)\n",
    "plt.ylabel('Temperatura', fontsize=14)\n",
    "\n",
    "plt.grid(True, linestyle='--', alpha=0.7)\n",
    "plt.tight_layout()\n",
    "plt.show()"
   ]
  },
  {
   "cell_type": "code",
   "execution_count": null,
   "metadata": {},
   "outputs": [],
   "source": [
    "# Asegúrate de tener el índice en datetime y ordenado\n",
    "serie3.index = pd.to_datetime(serie3.index)\n",
    "serie3 = serie3.sort_index()\n",
    "\n",
    "# Resampleamos cada 20 segundos y calculamos el promedio en cada ventana de 20 segundos\n",
    "serie_30s = serie3.resample('30S').mean().dropna()\n",
    "\n",
    "# Revisamos\n",
    "print(f\"Cantidad de datos resampleados: {len(serie_30s)}\")\n",
    "serie_30s.head()"
   ]
  },
  {
   "cell_type": "code",
   "execution_count": null,
   "metadata": {},
   "outputs": [],
   "source": [
    "from statsmodels.tsa.statespace.sarimax import SARIMAX\n",
    "\n",
    "# Entrena el modelo con los mejores parámetros\n",
    "final_model = SARIMAX(serie_30s,\n",
    "                      order=(4, 1, 2),\n",
    "                      seasonal_order=(0, 1, 2, 60),\n",
    "                      enforce_stationarity=False,\n",
    "                      enforce_invertibility=False)\n",
    "\n",
    "final_result = final_model.fit(disp=False)\n",
    "\n",
    "# Resumen del modelo entrenado\n",
    "print(final_result.summary())"
   ]
  },
  {
   "cell_type": "code",
   "execution_count": null,
   "metadata": {},
   "outputs": [],
   "source": [
    "# Cargar el CSV de los 2 días reales\n",
    "df_2dias = pd.read_csv('../data/serie_temporal_semana3_predecir.csv')\n",
    "\n",
    "# Asegurarte de que la columna timestamp sea datetime y esté ordenado\n",
    "df_2dias['user_ts__'] = pd.to_datetime(df_2dias['user_ts__'])\n",
    "df_2dias = df_2dias.sort_values('user_ts__')\n",
    "\n",
    "# Establecer como índice el timestamp\n",
    "df_2dias.set_index('user_ts__', inplace=True)\n",
    "\n",
    "# Selecciona la columna de la variable objetivo\n",
    "serie_real_pred = df_2dias['powerPerPreform_CurrentPreformNeckFinishTemperature.0']\n",
    "\n",
    "# Eliminar nulos (por si las dudas)\n",
    "serie_real_pred = serie_real_pred.dropna()\n",
    "\n",
    "# Revisar el rango y el número de datos reales\n",
    "print(serie_real_pred.index.min(), serie_real_pred.index.max(), len(serie_real_pred))"
   ]
  },
  {
   "cell_type": "code",
   "execution_count": null,
   "metadata": {},
   "outputs": [],
   "source": [
    "# Cuántos pasos quieres pronosticar con SARIMA por minuto\n",
    "steps_forecast = 2880  # 2 días en minutos\n",
    "\n",
    "# Predicción con el modelo SARIMA entrenado en serie_minuto\n",
    "pred_uc = final_result.get_forecast(steps=steps_forecast)\n",
    "\n",
    "# Obtener la media del pronóstico y el intervalo de confianza\n",
    "forecast_mean_minuto = pred_uc.predicted_mean\n",
    "forecast_ci = pred_uc.conf_int()\n",
    "\n",
    "# Creamos el índice correcto para el forecast por minuto\n",
    "forecast_index_minuto = pd.date_range(\n",
    "    start='2025-01-15 18:00:01+00:00',  # Aquí pones el inicio de la predicción (coherente con tu ventana)\n",
    "    periods=steps_forecast,\n",
    "    freq='T'  # Frecuencia de minutos\n",
    ")\n",
    "\n",
    "# Asignamos el índice al forecast y al intervalo de confianza\n",
    "forecast_mean_minuto.index = forecast_index_minuto\n",
    "forecast_ci.index = forecast_index_minuto"
   ]
  },
  {
   "cell_type": "code",
   "execution_count": null,
   "metadata": {},
   "outputs": [],
   "source": [
    "# Reindexamos sin método para generar NaNs y después interpolamos\n",
    "forecast_interpolado = forecast_mean_minuto.reindex(serie_real_pred.index)\n",
    "forecast_interpolado = forecast_interpolado.interpolate(method='time')"
   ]
  },
  {
   "cell_type": "code",
   "execution_count": null,
   "metadata": {},
   "outputs": [],
   "source": [
    "import matplotlib.pyplot as plt\n",
    "\n",
    "plt.figure(figsize=(15,6))\n",
    "\n",
    "# Serie real de los 2 días\n",
    "plt.plot(serie_real_pred.index, serie_real_pred.values, label='Serie Real (segundos)', alpha=0.7)\n",
    "\n",
    "# Forecast interpolado\n",
    "plt.plot(forecast_interpolado.index, forecast_interpolado.values, label='Forecast SARIMA interpolado', color='red')\n",
    "\n",
    "plt.title('Predicción SARIMA (Interpolada) vs Datos Reales; powerPerPreform_CurrentPreformNeckFinishTemperature.0')\n",
    "plt.xlabel('Fecha')\n",
    "plt.ylabel('Temperatura (°C)')\n",
    "plt.legend()\n",
    "plt.grid(True)\n",
    "plt.show()"
   ]
  },
  {
   "cell_type": "code",
   "execution_count": null,
   "metadata": {},
   "outputs": [],
   "source": [
    "import numpy as np\n",
    "from sklearn.metrics import mean_absolute_error, mean_squared_error\n",
    "import pandas as pd\n",
    "\n",
    "# Crear un DataFrame para alinear las dos series y limpiar NaN\n",
    "df_comparacion = pd.DataFrame({\n",
    "    'real': serie_real_pred,\n",
    "    'predicho': forecast_interpolado\n",
    "})\n",
    "\n",
    "# Eliminar filas con NaN en cualquiera de las dos series\n",
    "df_comparacion = df_comparacion.dropna()\n",
    "\n",
    "# Confirmamos tamaños nuevamente (por si acaso)\n",
    "assert len(df_comparacion['real']) == len(df_comparacion['predicho'])\n",
    "\n",
    "# Calculamos las métricas\n",
    "mae = mean_absolute_error(df_comparacion['real'], df_comparacion['predicho'])\n",
    "rmse = np.sqrt(mean_squared_error(df_comparacion['real'], df_comparacion['predicho']))\n",
    "\n",
    "print(f\"MAE: {mae:.4f}\")\n",
    "print(f\"RMSE: {rmse:.4f}\")"
   ]
  },
  {
   "cell_type": "markdown",
   "metadata": {},
   "source": [
    "***SEMANA 4***"
   ]
  }
 ],
 "metadata": {
  "kernelspec": {
   "display_name": ".sarima311",
   "language": "python",
   "name": "python3"
  },
  "language_info": {
   "codemirror_mode": {
    "name": "ipython",
    "version": 3
   },
   "file_extension": ".py",
   "mimetype": "text/x-python",
   "name": "python",
   "nbconvert_exporter": "python",
   "pygments_lexer": "ipython3",
   "version": "3.11.11"
  }
 },
 "nbformat": 4,
 "nbformat_minor": 2
}
